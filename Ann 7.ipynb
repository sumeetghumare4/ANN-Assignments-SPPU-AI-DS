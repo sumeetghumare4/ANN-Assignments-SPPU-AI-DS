{
 "cells": [
  {
   "cell_type": "markdown",
   "id": "7dfd91ad",
   "metadata": {},
   "source": [
    "**7. Create a Neural network architecture from scratch in Python and use it to do multi-class classification on any data. Parameters to be considered while creating the neural network\n",
    "from scratch are specified as:**\n",
    "\n",
    "***• No of hidden layers : 1 or more***\n",
    "\n",
    "***• No. of neurons in hidden layer: 100***\n",
    "\n",
    "***• Non-linearity in the layer : Relu***\n",
    "\n",
    "***• Use more than 1 neuron in the output layer. Use a suitable threshold value***"
   ]
  },
  {
   "cell_type": "code",
   "execution_count": null,
   "id": "b339b95b",
   "metadata": {},
   "outputs": [],
   "source": [
    "import tensorflow as tf\n",
    "from tensorflow.keras import datasets , layers ,models\n",
    "import matplotlib.pyplot as plt\n",
    "import numpy as np\n",
    "import seaborn as sns\n",
    "import pandas as pd"
   ]
  },
  {
   "cell_type": "code",
   "execution_count": 56,
   "id": "f00f7d27",
   "metadata": {},
   "outputs": [],
   "source": [
    "(X_train , y_train),(X_test , y_test) = datasets.cifar10.load_data()"
   ]
  },
  {
   "cell_type": "code",
   "execution_count": 57,
   "id": "aebb9c8a",
   "metadata": {},
   "outputs": [
    {
     "data": {
      "text/plain": [
       "(50000, 32, 32, 3)"
      ]
     },
     "execution_count": 57,
     "metadata": {},
     "output_type": "execute_result"
    }
   ],
   "source": [
    "X_train.shape"
   ]
  },
  {
   "cell_type": "code",
   "execution_count": 59,
   "id": "d4a8367c",
   "metadata": {},
   "outputs": [
    {
     "data": {
      "text/plain": [
       "(10000, 32, 32, 3)"
      ]
     },
     "execution_count": 59,
     "metadata": {},
     "output_type": "execute_result"
    }
   ],
   "source": [
    "X_test.shape"
   ]
  },
  {
   "cell_type": "code",
   "execution_count": 61,
   "id": "c6531416",
   "metadata": {},
   "outputs": [
    {
     "data": {
      "text/plain": [
       "array([6, 9, 9, 4, 1], dtype=uint8)"
      ]
     },
     "execution_count": 61,
     "metadata": {},
     "output_type": "execute_result"
    }
   ],
   "source": [
    "y_train = y_train.reshape(-1,)\n",
    "y_train[:5]"
   ]
  },
  {
   "cell_type": "code",
   "execution_count": 62,
   "id": "0a78f55e",
   "metadata": {},
   "outputs": [
    {
     "data": {
      "text/plain": [
       "array([3, 8, 8, 0, 6], dtype=uint8)"
      ]
     },
     "execution_count": 62,
     "metadata": {},
     "output_type": "execute_result"
    }
   ],
   "source": [
    "y_test = y_test.reshape(-1,)\n",
    "y_test[:5]"
   ]
  },
  {
   "cell_type": "code",
   "execution_count": 63,
   "id": "19c5e1e6",
   "metadata": {},
   "outputs": [],
   "source": [
    "X_train = X_train/255.0\n",
    "X_test = X_test/255.0"
   ]
  },
  {
   "cell_type": "code",
   "execution_count": 64,
   "id": "aafa48a3",
   "metadata": {},
   "outputs": [],
   "source": [
    "ann = models.Sequential([\n",
    "    layers.Flatten(input_shape=(32,32,3)),\n",
    "    layers.Dense(3000, activation='relu'),\n",
    "    layers.Dense(1000, activation='relu'),\n",
    "    layers.Dense(10 , activation='softmax')\n",
    "])"
   ]
  },
  {
   "cell_type": "code",
   "execution_count": 65,
   "id": "e952c0f4",
   "metadata": {},
   "outputs": [
    {
     "name": "stdout",
     "output_type": "stream",
     "text": [
      "Epoch 1/2\n",
      "1563/1563 [==============================] - 159s 101ms/step - loss: 1.8101 - accuracy: 0.3559\n",
      "Epoch 2/2\n",
      "1563/1563 [==============================] - 154s 98ms/step - loss: 1.6220 - accuracy: 0.4262\n"
     ]
    },
    {
     "data": {
      "text/plain": [
       "<keras.callbacks.History at 0x7f886ca8c430>"
      ]
     },
     "execution_count": 65,
     "metadata": {},
     "output_type": "execute_result"
    }
   ],
   "source": [
    "ann.compile(optimizer='SGD',\n",
    "           loss='sparse_categorical_crossentropy',\n",
    "           metrics=['accuracy'])\n",
    "\n",
    "ann.fit(X_train , y_train , epochs=2)"
   ]
  },
  {
   "cell_type": "code",
   "execution_count": 66,
   "id": "e7e12ad6",
   "metadata": {},
   "outputs": [
    {
     "name": "stdout",
     "output_type": "stream",
     "text": [
      "313/313 [==============================] - 9s 27ms/step\n",
      "Classification Report: \n",
      "               precision    recall  f1-score   support\n",
      "\n",
      "           0       0.48      0.58      0.53      1000\n",
      "           1       0.66      0.38      0.48      1000\n",
      "           2       0.31      0.34      0.33      1000\n",
      "           3       0.39      0.16      0.23      1000\n",
      "           4       0.55      0.11      0.18      1000\n",
      "           5       0.28      0.51      0.36      1000\n",
      "           6       0.42      0.57      0.49      1000\n",
      "           7       0.48      0.49      0.49      1000\n",
      "           8       0.64      0.46      0.54      1000\n",
      "           9       0.42      0.68      0.52      1000\n",
      "\n",
      "    accuracy                           0.43     10000\n",
      "   macro avg       0.46      0.43      0.41     10000\n",
      "weighted avg       0.46      0.43      0.41     10000\n",
      "\n"
     ]
    }
   ],
   "source": [
    "from sklearn.metrics import confusion_matrix ,classification_report\n",
    "y_pred = ann.predict(X_test)\n",
    "y_pred_classes = [np.argmax(element) for element in y_pred]\n",
    "\n",
    "print('Classification Report: \\n', classification_report(y_test , y_pred_classes))"
   ]
  },
  {
   "cell_type": "code",
   "execution_count": null,
   "id": "466815db",
   "metadata": {},
   "outputs": [],
   "source": []
  }
 ],
 "metadata": {
  "kernelspec": {
   "display_name": "Python 3 (ipykernel)",
   "language": "python",
   "name": "python3"
  },
  "language_info": {
   "codemirror_mode": {
    "name": "ipython",
    "version": 3
   },
   "file_extension": ".py",
   "mimetype": "text/x-python",
   "name": "python",
   "nbconvert_exporter": "python",
   "pygments_lexer": "ipython3",
   "version": "3.9.12"
  }
 },
 "nbformat": 4,
 "nbformat_minor": 5
}
